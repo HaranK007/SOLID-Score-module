{
 "cells": [
  {
   "cell_type": "code",
   "execution_count": 1,
   "id": "4c39080e-ca9a-4351-881f-e3ef181bf182",
   "metadata": {},
   "outputs": [],
   "source": [
    "# pip install scikit-learn"
   ]
  },
  {
   "cell_type": "code",
   "execution_count": 2,
   "id": "1f58d0be-54ca-4e73-b191-18e8a38f4397",
   "metadata": {},
   "outputs": [],
   "source": [
    "# pip install matplotlib"
   ]
  },
  {
   "cell_type": "code",
   "execution_count": 3,
   "id": "d46625bc-be6a-46df-a8ee-f003acf82035",
   "metadata": {},
   "outputs": [],
   "source": [
    "# pip install openpyxl"
   ]
  },
  {
   "cell_type": "code",
   "execution_count": 4,
   "id": "22ed1a6e-f2d3-43a7-ab15-c557b7c56adc",
   "metadata": {},
   "outputs": [],
   "source": [
    "import requests\n",
    "import json\n",
    "import pandas as pd\n",
    "import time\n",
    "from datetime import datetime, timedelta\n",
    "from sklearn.preprocessing import StandardScaler\n",
    "from sklearn.cluster import KMeans\n",
    "import matplotlib.pyplot as plt\n",
    "import numpy as np"
   ]
  },
  {
   "cell_type": "code",
   "execution_count": 21,
   "id": "f47c0eb6-6dad-419c-aee6-d63557d740e5",
   "metadata": {},
   "outputs": [],
   "source": [
    "import joblib"
   ]
  },
  {
   "cell_type": "code",
   "execution_count": 5,
   "id": "4511818a-825d-4d52-8137-10a377928fa6",
   "metadata": {},
   "outputs": [],
   "source": [
    "'''\n",
    "    The address used for training the ML model\n",
    "'''\n",
    "\n",
    "addresses = ['2993tWVVBGnzkWzLWTSLHByX9FAaNH7j1QoQBnDgxH71','arsc4jbDnzaqcCLByyGo7fg7S2SmcFsWUzQuDtLZh2y','9J41nRFg5aega9WAcrSxR9NBJRneQ5sWptyv1cAcFG5j', 'FeQ6UuJXJoeVkBi6p7eNMxH2E962TktzSMo9kpuQnsgG', 'Habp5bncMSsBC3vkChyebepym5dcTNRYeg2LVG464E96' , 'HPnPbn8ryBpPhW9ddMo8BdDLm3ec6j9fes1JWCyhVtZA', 'HWEoBxYs7ssKuudEjzjmpfJVX7Dvi7wescFsVx2L5yoY',\n",
    "            'MJKqp326RZCHnAAbew9MDdui3iCKWco7fsK9sVuZTX2', '52C9T2T7JRojtxumYnYZhyUmrN7kqzvCLc4Ksvjk7TxD', '8BseXT9EtoEhBTKFFYkwTnjKSUZwhtmdKY2Jrj8j45Rt',\n",
    "            'GitYucwpNcg6Dx1Y15UQ9TQn8LZMX1uuqQNn8rXxEWNC', '9QgXqrgdbVU8KcpfskqJpAXKzbaYQJecgMAruSWoXDkM','58qEoZWDhRXJLZM81dhGBE9yX8SurkZXwcshRUt2eiwy',\n",
    "            'Ab6SDGKe5VLnYBuq4sEgbZ3t58QT6okhmAFn37VhKEBe','G2Lv2uKycrMCXEZ2KCmX7SZiDfK9ua2HTQGLdFvqTdQS','5yhAyfR5Z7ALwkU7vSH2AjnvLqJb7Zu5DPCEVocvkSwC',\n",
    "            '2BN5nmMtQFmwyW9EGiQEintCiU5eNtPS9Us4m46LXzGQ']"
   ]
  },
  {
   "cell_type": "code",
   "execution_count": 6,
   "id": "835184a5-e496-414c-a0f3-49b9d070fb94",
   "metadata": {},
   "outputs": [],
   "source": [
    "accountTxDatas = []"
   ]
  },
  {
   "cell_type": "code",
   "execution_count": 7,
   "id": "25cc5d1a-40ab-47b9-8adf-26a74760ee3c",
   "metadata": {},
   "outputs": [],
   "source": [
    "'''\n",
    "    Fetch their onchain data\n",
    "'''\n",
    "\n",
    "for i in addresses:\n",
    "    time.sleep(1)\n",
    "    \n",
    "    url = f\"https://api.solana.fm/v0/accounts/{i}/transfers\"\n",
    "    response = requests.get(url)\n",
    "\n",
    "    parssedTxResult = []\n",
    "    if response.status_code == 200:\n",
    "        data = response.json()\n",
    "        \n",
    "        results = data.get('results')\n",
    "        \n",
    "        for tx in results:\n",
    "            data = tx.get('data',[])\n",
    "    \n",
    "            for i in data:\n",
    "                # if (i.get('action')).startswith('mintToCollection') :\n",
    "                    parssedTxResult.append(\n",
    "                        {\n",
    "                            'status' : i.get('status'),\n",
    "                            'action' : i.get('action'),\n",
    "                            'Amount' : i.get('amount'),\n",
    "                            'Receiver' : i.get('destination'),\n",
    "                            'TimeStamp' : i.get('timestamp'),\n",
    "                        }\n",
    "                    )\n",
    "        accountTxDatas.append(parssedTxResult)\n",
    "        df = pd.DataFrame(list)\n",
    "        df.to_excel('minted.xlsx', index=False)\n",
    "        \n",
    "    else:\n",
    "        print(f\"Request failed with status code {response.status_code}\")"
   ]
  },
  {
   "cell_type": "code",
   "execution_count": 8,
   "id": "edd47dd5-ce23-4621-b0e8-8e031f35942d",
   "metadata": {},
   "outputs": [],
   "source": [
    "all_transactions = []\n",
    "\n",
    "'''\n",
    "    Extract the required data from the onchian result\n",
    "'''\n",
    "\n",
    "for address, transactions in zip(addresses, accountTxDatas):\n",
    "    for tx in transactions:\n",
    "\n",
    "        transaction_record = {\n",
    "            'address': address,\n",
    "            'timestamp': tx['TimeStamp'],\n",
    "            'action': tx['action'],\n",
    "            'amount': tx['Amount'],\n",
    "            'counterparty': tx['Receiver'],\n",
    "            'status': tx['status']\n",
    "        }\n",
    "        all_transactions.append(transaction_record)\n"
   ]
  },
  {
   "cell_type": "code",
   "execution_count": 9,
   "id": "86eb1b62-a73a-4d0b-b295-2d402f9fa7b0",
   "metadata": {},
   "outputs": [],
   "source": [
    "df = pd.DataFrame(all_transactions)\n",
    "df.to_excel('all-transactions.xlsx', index=False)"
   ]
  },
  {
   "cell_type": "code",
   "execution_count": 10,
   "id": "16380654-b2d1-40b0-976f-2935aaad148e",
   "metadata": {},
   "outputs": [],
   "source": [
    "df = pd.read_excel('all-transactions.xlsx')\n",
    "\n",
    "data = {'address': [], 'transactions': []}\n",
    "\n",
    "grouped = df.groupby('address')\n",
    "for address, group in grouped:\n",
    "    data['address'].append(address)\n",
    "    \n",
    "    transactions = []\n",
    "    for _, row in group.iterrows():\n",
    "        transaction = {\n",
    "            'timestamp': datetime.fromtimestamp(row['timestamp']),\n",
    "            'action': row['action'],\n",
    "            'amount': row['amount'],\n",
    "            'counterparty': row['counterparty'],\n",
    "            'status': row['status']\n",
    "        }\n",
    "        transactions.append(transaction)\n",
    "    \n",
    "    data['transactions'].append(transactions)\n"
   ]
  },
  {
   "cell_type": "code",
   "execution_count": 11,
   "id": "a946256d-27ec-4516-889e-ded76bb78ae8",
   "metadata": {},
   "outputs": [],
   "source": [
    "\n",
    "def calculate_total_transactions(transactions):\n",
    "    return len(transactions)\n",
    "\n",
    "def calculate_daily_transaction_count(transactions):\n",
    "    daily_count = {}\n",
    "    \n",
    "    for tx in transactions:\n",
    "        date = tx['timestamp'].strftime('%Y-%m-%d')\n",
    "        if date not in daily_count:\n",
    "            daily_count[date] = 1\n",
    "        daily_count[date] += 1\n",
    "    return daily_count\n",
    "\n",
    "def calculate_transaction_intervals(transactions):\n",
    "    intervals = []\n",
    "    timestamps = [tx['timestamp'] for tx in transactions]\n",
    "    timestamps.sort()\n",
    "    for i in range(1, len(timestamps)):\n",
    "        interval = (timestamps[i] - timestamps[i-1]).total_seconds() / 3600.0\n",
    "        intervals.append(interval)\n",
    "    return intervals\n",
    "\n",
    "def calculate_total_transaction_volume(transactions):\n",
    "    return sum(tx['amount'] for tx in transactions)\n",
    "\n",
    "def calculate_mean_transaction_amount(transactions):\n",
    "    return np.mean([tx['amount'] for tx in transactions])\n",
    "\n",
    "def calculate_variance_transaction_amount(transactions):\n",
    "    return np.var([tx['amount'] for tx in transactions])\n",
    "\n",
    "def calculate_unique_counterparties(transactions):\n",
    "    counterparties = set(tx['counterparty'] for tx in transactions)\n",
    "    return len(counterparties)\n",
    "\n",
    "def detect_high_frequency_bursts(transactions, threshold=1):\n",
    "    bursts = 0\n",
    "    intervals = calculate_transaction_intervals(transactions)\n",
    "    for interval in intervals:\n",
    "        if interval < threshold:\n",
    "            bursts += 1\n",
    "    return bursts"
   ]
  },
  {
   "cell_type": "code",
   "execution_count": 12,
   "id": "1f8e3c72-e5c7-4968-bf02-e8c1d7c2d654",
   "metadata": {},
   "outputs": [],
   "source": [
    "def calculate_success_rate(transactions):\n",
    "    total_transactions = len(transactions)\n",
    "    successful_transactions = sum(1 for tx in transactions if tx['status']== 'Successful')\n",
    "    return successful_transactions / total_transactions if total_transactions > 0 else 0\n",
    "\n",
    "def calculate_time_of_day_activity(transactions):\n",
    "    hours = [tx['timestamp'].hour for tx in transactions]\n",
    "    return np.mean(hours) if hours else 0\n",
    "\n",
    "def calculate_transfer_counts(transactions):\n",
    "    transfer_counts = [\n",
    "        \"transfer\",\n",
    "        \"transferWithSeed\",\n",
    "        \"transferChecked\",\n",
    "        \"transferCheckedWithFee\"\n",
    "    ]\n",
    "\n",
    "    transfer = 0\n",
    "    for tx in transactions:\n",
    "        tx_type = tx['action']\n",
    "        if tx_type in transfer_counts:\n",
    "            transfer += 1\n",
    "    \n",
    "    return transfer/len(transactions)\n",
    "\n",
    "def calculate_mint_and_sig_counts(transactions):\n",
    "    account_creation_counts = [\n",
    "        \"mintTo\",\n",
    "        \"initializeMint\",\n",
    "        \"initializeMint2\",\n",
    "        \"initializeMultisig\",\n",
    "        \"initializeMultisig2\"\n",
    "    ]\n",
    "\n",
    "    count = 0\n",
    "    for tx in transactions:\n",
    "        tx_type = tx['action']\n",
    "        if tx_type in account_creation_counts:\n",
    "            count += 1\n",
    "    \n",
    "    return count/len(transactions)"
   ]
  },
  {
   "cell_type": "code",
   "execution_count": 13,
   "id": "cdbc4102-1432-4bc7-904a-e869d04a0ea7",
   "metadata": {},
   "outputs": [],
   "source": [
    "'''\n",
    "    Feature extraction from the extracted data, which will be used to train the model\n",
    "'''\n",
    "\n",
    "features = []\n",
    "for transactions in data['transactions']:\n",
    "    total_transactions = calculate_total_transactions(transactions)\n",
    "    daily_transaction_count = calculate_daily_transaction_count(transactions)\n",
    "    transaction_intervals = calculate_transaction_intervals(transactions)\n",
    "    total_transaction_volume = calculate_total_transaction_volume(transactions)\n",
    "    mean_transaction_amount = calculate_mean_transaction_amount(transactions)\n",
    "    variance_transaction_amount = calculate_variance_transaction_amount(transactions)\n",
    "    unique_counterparties = calculate_unique_counterparties(transactions)\n",
    "    high_frequency_bursts = detect_high_frequency_bursts(transactions)\n",
    "    success_rate = calculate_success_rate(transactions)\n",
    "    time_of_day_activity = calculate_time_of_day_activity(transactions)\n",
    "\n",
    "    transfer_counts = calculate_transfer_counts(transactions)\n",
    "    mint_and_sig_counts = calculate_mint_and_sig_counts(transactions)\n",
    "    \n",
    "    feature_vector = [\n",
    "        total_transactions,\n",
    "        len(daily_transaction_count),  \n",
    "        np.mean(transaction_intervals) if transaction_intervals else 0,\n",
    "        total_transaction_volume,\n",
    "        mean_transaction_amount,\n",
    "        variance_transaction_amount,\n",
    "        unique_counterparties,\n",
    "        high_frequency_bursts,\n",
    "        success_rate,\n",
    "        time_of_day_activity,\n",
    "        transfer_counts,\n",
    "        mint_and_sig_counts\n",
    "    ]\n",
    "    \n",
    "    features.append(feature_vector)"
   ]
  },
  {
   "cell_type": "code",
   "execution_count": 14,
   "id": "145691d9-1c22-471a-bfb3-dd24125a7340",
   "metadata": {},
   "outputs": [],
   "source": [
    "\n",
    "feature_names = [\n",
    "    'Total_Transactions',\n",
    "    'Unique_Days',\n",
    "    'Mean_Transaction_Interval',\n",
    "    'Total_Transaction_Volume',\n",
    "    'Mean_Transaction_Amount',\n",
    "    'Variance_Transaction_Amount',\n",
    "    'Unique_Counterparties',\n",
    "    'High_Frequency_Bursts',\n",
    "    'Success_Rate',\n",
    "    'Time_Of_Activity',\n",
    "    'Transfer_Counts',\n",
    "    'Mint_And_Sig_Counts'\n",
    "]\n"
   ]
  },
  {
   "cell_type": "code",
   "execution_count": 15,
   "id": "c12ff50e-4b8f-4c40-971a-e67f54df624c",
   "metadata": {},
   "outputs": [],
   "source": [
    "features_df = pd.DataFrame(features, columns=feature_names)"
   ]
  },
  {
   "cell_type": "code",
   "execution_count": 16,
   "id": "159b8b00-d6b2-4abb-ae50-6eaaeab8fded",
   "metadata": {},
   "outputs": [],
   "source": [
    "scaler = StandardScaler()\n",
    "scaled_features = scaler.fit_transform(features_df)"
   ]
  },
  {
   "cell_type": "code",
   "execution_count": 17,
   "id": "e6c973cf-9bf5-4ee8-bad1-c032f96057dc",
   "metadata": {},
   "outputs": [],
   "source": [
    "'''\n",
    "    Training the model\n",
    "'''\n",
    "\n",
    "kmeans = KMeans(n_clusters=2, random_state=42)\n",
    "kmeans.fit(scaled_features)\n",
    "labels = kmeans.labels_"
   ]
  },
  {
   "cell_type": "code",
   "execution_count": 18,
   "id": "97d36ba3-0df1-4154-8353-61261049c5db",
   "metadata": {},
   "outputs": [],
   "source": [
    "# Add cluster labels\n",
    "features_df['Cluster'] = labels"
   ]
  },
  {
   "cell_type": "code",
   "execution_count": 19,
   "id": "5067f07d-b6c4-484e-94cf-161d22f7300e",
   "metadata": {
    "scrolled": true
   },
   "outputs": [
    {
     "name": "stdout",
     "output_type": "stream",
     "text": [
      "    Total_Transactions  Unique_Days  Mean_Transaction_Interval  \\\n",
      "0                  278            2                   0.117475   \n",
      "1                   11            1                   0.000000   \n",
      "2                   72            1                   0.048259   \n",
      "3                   11            1                   0.000000   \n",
      "4                  918            1                   0.011382   \n",
      "5                   11            1                   0.000000   \n",
      "6                  119            3                   0.504461   \n",
      "7                  404            1                   0.046330   \n",
      "8                   13            2                   2.313912   \n",
      "9                  116            3                   0.427116   \n",
      "10                 199            1                   0.000004   \n",
      "11                 128            3                   0.503869   \n",
      "12                  20            3                   3.361579   \n",
      "13                 352            1                   0.000066   \n",
      "\n",
      "    Total_Transaction_Volume  Mean_Transaction_Amount  \\\n",
      "0              7240734337242             2.604581e+10   \n",
      "1                  355933000             3.235755e+07   \n",
      "2              1150113117890             1.597379e+10   \n",
      "3                  355933000             3.235755e+07   \n",
      "4            812149760351012             8.846947e+11   \n",
      "5                  355933000             3.235755e+07   \n",
      "6           6196920534155186             5.207496e+13   \n",
      "7        5064283133607400938             1.253535e+16   \n",
      "8             31553658408706             2.427204e+12   \n",
      "9             10942539778903             9.433224e+10   \n",
      "10           183343944864773             9.213264e+11   \n",
      "11            29528042635739             2.306878e+11   \n",
      "12             5500688192877             2.750344e+11   \n",
      "13        255599853252075910             7.261359e+14   \n",
      "\n",
      "    Variance_Transaction_Amount  Unique_Counterparties  High_Frequency_Bursts  \\\n",
      "0                  2.775815e+22                     52                    271   \n",
      "1                  1.119198e+15                     11                     10   \n",
      "2                  8.307938e+20                     26                     70   \n",
      "3                  1.119198e+15                     11                     10   \n",
      "4                  5.032654e+25                     47                    916   \n",
      "5                  1.119198e+15                     11                     10   \n",
      "6                  3.698295e+28                     25                    109   \n",
      "7                  4.454407e+33                     33                    401   \n",
      "8                  7.069413e+25                     11                     11   \n",
      "9                  1.123977e+23                     22                    112   \n",
      "10                 2.285041e+25                     77                    198   \n",
      "11                 1.260152e+23                     60                    104   \n",
      "12                 1.186856e+24                     14                     16   \n",
      "13                 1.156836e+31                     10                    351   \n",
      "\n",
      "    Success_Rate  Time_Of_Activity  Transfer_Counts  Mint_And_Sig_Counts  \\\n",
      "0            1.0         15.402878         0.446043             0.003597   \n",
      "1            1.0         17.000000         0.454545             0.000000   \n",
      "2            1.0         14.805556         0.541667             0.041667   \n",
      "3            1.0         17.000000         0.454545             0.000000   \n",
      "4            1.0         17.722222         0.549020             0.002179   \n",
      "5            1.0         17.000000         0.454545             0.000000   \n",
      "6            1.0         13.722689         0.420168             0.025210   \n",
      "7            1.0          9.618812         0.549505             0.000000   \n",
      "8            1.0         17.615385         0.384615             0.000000   \n",
      "9            1.0         10.887931         0.508621             0.000000   \n",
      "10           1.0         23.000000         0.547739             0.000000   \n",
      "11           1.0         14.765625         0.320312             0.000000   \n",
      "12           1.0         13.250000         0.400000             0.000000   \n",
      "13           1.0         22.795455         0.625000             0.000000   \n",
      "\n",
      "    Cluster  \n",
      "0         0  \n",
      "1         0  \n",
      "2         0  \n",
      "3         0  \n",
      "4         1  \n",
      "5         0  \n",
      "6         0  \n",
      "7         1  \n",
      "8         0  \n",
      "9         0  \n",
      "10        1  \n",
      "11        0  \n",
      "12        0  \n",
      "13        1  \n"
     ]
    }
   ],
   "source": [
    "# model result and analysis\n",
    "print(features_df)"
   ]
  },
  {
   "cell_type": "code",
   "execution_count": 20,
   "id": "9aab7853-f1e4-441c-9cb8-00930c9fc86d",
   "metadata": {},
   "outputs": [
    {
     "data": {
      "image/png": "[encoded data removed]",
      "text/plain": [
       "<Figure size 640x480 with 1 Axes>"
      ]
     },
     "metadata": {},
     "output_type": "display_data"
    }
   ],
   "source": [
    "plt.scatter(features_df['Mean_Transaction_Amount'], features_df['Variance_Transaction_Amount'], c=features_df['Cluster'], cmap='viridis')\n",
    "plt.xlabel('Mean Transaction Amount')\n",
    "plt.ylabel('Transaction Amount Variance')\n",
    "plt.title('K-Means Clustering of Solana Blockchain Addresses')\n",
    "plt.show()"
   ]
  },
  {
   "cell_type": "code",
   "execution_count": 22,
   "id": "4e6be51b-184c-44fc-8029-cb805b6c1d36",
   "metadata": {},
   "outputs": [
    {
     "data": {
      "text/plain": [
       "['kmeans_model.joblib']"
      ]
     },
     "execution_count": 22,
     "metadata": {},
     "output_type": "execute_result"
    }
   ],
   "source": [
    "joblib.dump(scaler, 'scaler.joblib')\n",
    "joblib.dump(kmeans, 'kmeans_model.joblib')"
   ]
  },
  {
   "cell_type": "code",
   "execution_count": null,
   "id": "021eeea1-3653-423a-bf96-84f422ef77d5",
   "metadata": {},
   "outputs": [],
   "source": []
  }
 ],
 "metadata": {
  "kernelspec": {
   "display_name": "Python 3 (ipykernel)",
   "language": "python",
   "name": "python3"
  },
  "language_info": {
   "codemirror_mode": {
    "name": "ipython",
    "version": 3
   },
   "file_extension": ".py",
   "mimetype": "text/x-python",
   "name": "python",
   "nbconvert_exporter": "python",
   "pygments_lexer": "ipython3",
   "version": "3.10.12"
  }
 },
 "nbformat": 4,
 "nbformat_minor": 5
}
