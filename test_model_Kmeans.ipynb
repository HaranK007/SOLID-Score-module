{
 "cells": [
  {
   "cell_type": "code",
   "execution_count": 1,
   "id": "a398c50f-1906-46c1-a29a-fc378736e9a6",
   "metadata": {},
   "outputs": [],
   "source": [
    "import requests\n",
    "import json\n",
    "import numpy as np\n",
    "import pandas as pd\n",
    "from sklearn.preprocessing import StandardScaler\n",
    "from sklearn.cluster import KMeans\n",
    "import joblib\n",
    "import time\n",
    "from datetime import datetime, timedelta"
   ]
  },
  {
   "cell_type": "code",
   "execution_count": 2,
   "id": "ebc807c6-31bd-4b31-8534-34c9c7e57939",
   "metadata": {},
   "outputs": [],
   "source": [
    "'''\n",
    "    Import the pre-trained ML model\n",
    "'''\n",
    "\n",
    "scaler = joblib.load('scaler.joblib')\n",
    "kmeans = joblib.load('kmeans_model.joblib')"
   ]
  },
  {
   "cell_type": "code",
   "execution_count": 3,
   "id": "d7be2687-ee0d-4228-8d2b-a31b43a6060a",
   "metadata": {},
   "outputs": [],
   "source": [
    "'''\n",
    "    The address that we want to score\n",
    "'''\n",
    "\n",
    "addresses = ['arsc4jbDnzaqcCLByyGo7fg7S2SmcFsWUzQuDtLZh2y']"
   ]
  },
  {
   "cell_type": "code",
   "execution_count": 4,
   "id": "9a490162-6daa-48fc-abdf-0d6f76d8b2bf",
   "metadata": {},
   "outputs": [],
   "source": [
    "accountTxDatas = []"
   ]
  },
  {
   "cell_type": "code",
   "execution_count": 5,
   "id": "aa686f6b-986b-4db2-83e5-b75aa7d359f4",
   "metadata": {},
   "outputs": [],
   "source": [
    "'''\n",
    "    fetch the address onchain tramsfer txns data using solana.fm api\n",
    "'''\n",
    "\n",
    "for i in addresses:\n",
    "    \n",
    "    time.sleep(1)\n",
    "    \n",
    "    url = f\"https://api.solana.fm/v0/accounts/{i}/transfers\"\n",
    "    response = requests.get(url)\n",
    "\n",
    "    parssedTxResult = []\n",
    "    if response.status_code == 200:\n",
    "        data = response.json()\n",
    "        \n",
    "        results = data.get('results')\n",
    "\n",
    "        for tx in results:\n",
    "            data = tx.get('data',[])\n",
    "            for i in data:\n",
    "                # if (i.get('action')).startswith('mintToCollection') :\n",
    "                    parssedTxResult.append(\n",
    "                        {\n",
    "                            'status' : i.get('status'),\n",
    "                            'action' : i.get('action'),\n",
    "                            'amount' : i.get('amount'),\n",
    "                            'counterparty' : i.get('destination'),\n",
    "                            'timestamp' : datetime.fromtimestamp(i.get('timestamp')),\n",
    "                        }\n",
    "                    )\n",
    "\n",
    "        accountTxDatas.append(parssedTxResult)\n",
    "        \n",
    "    else:\n",
    "        print(f\"Request failed with status code {response.status_code}\")"
   ]
  },
  {
   "cell_type": "code",
   "execution_count": 6,
   "id": "685908de-8279-494c-8cab-3ca91886ca54",
   "metadata": {},
   "outputs": [],
   "source": [
    "def calculate_total_transactions(transactions):\n",
    "    return len(transactions)\n",
    "\n",
    "def calculate_daily_transaction_count(transactions):\n",
    "    daily_count = {}\n",
    "    \n",
    "    for tx in transactions:\n",
    "        date = tx['timestamp'].strftime('%Y-%m-%d')\n",
    "        if date not in daily_count:\n",
    "            daily_count[date] = 1\n",
    "        daily_count[date] += 1\n",
    "    return daily_count\n",
    "\n",
    "def calculate_transaction_intervals(transactions):\n",
    "    intervals = []\n",
    "    timestamps = [tx['timestamp'] for tx in transactions]\n",
    "    timestamps.sort()\n",
    "    for i in range(1, len(timestamps)):\n",
    "        interval = (timestamps[i] - timestamps[i-1]).total_seconds() / 3600.0\n",
    "        intervals.append(interval)\n",
    "    return intervals\n",
    "\n",
    "def calculate_total_transaction_volume(transactions):\n",
    "    return sum(tx['amount'] for tx in transactions)\n",
    "\n",
    "def calculate_mean_transaction_amount(transactions):\n",
    "    return np.mean([tx['amount'] for tx in transactions])\n",
    "\n",
    "def calculate_variance_transaction_amount(transactions):\n",
    "    return np.var([tx['amount'] for tx in transactions])\n",
    "\n",
    "def calculate_unique_counterparties(transactions):\n",
    "    counterparties = set(tx['counterparty'] for tx in transactions)\n",
    "    return len(counterparties)\n",
    "\n",
    "def detect_high_frequency_bursts(transactions, threshold=1):\n",
    "    bursts = 0\n",
    "    intervals = calculate_transaction_intervals(transactions)\n",
    "    for interval in intervals:\n",
    "        if interval < threshold:\n",
    "            bursts += 1\n",
    "    return bursts\n",
    "\n",
    "def calculate_success_rate(transactions):\n",
    "    total_transactions = len(transactions)\n",
    "    successful_transactions = sum(1 for tx in transactions if tx['status']== 'Successful')\n",
    "    return successful_transactions / total_transactions if total_transactions > 0 else 0\n",
    "\n",
    "def calculate_time_of_day_activity(transactions):\n",
    "    hours = [tx['timestamp'].hour for tx in transactions]\n",
    "    return np.mean(hours) if hours else 0\n",
    "\n",
    "def calculate_transfer_counts(transactions):\n",
    "    transfer_counts = [\n",
    "        \"transfer\",\n",
    "        \"transferWithSeed\",\n",
    "        \"transferChecked\",\n",
    "        \"transferCheckedWithFee\"\n",
    "    ]\n",
    "\n",
    "    transfer = 0\n",
    "    for tx in transactions:\n",
    "        tx_type = tx['action']\n",
    "        if tx_type in transfer_counts:\n",
    "            transfer += 1\n",
    "    \n",
    "    return transfer/len(transactions)\n",
    "\n",
    "def calculate_mint_and_sig_counts(transactions):\n",
    "    account_creation_counts = [\n",
    "        \"mintTo\",\n",
    "        \"initializeMint\",\n",
    "        \"initializeMint2\",\n",
    "        \"initializeMultisig\",\n",
    "        \"initializeMultisig2\"\n",
    "    ]\n",
    "\n",
    "    count = 0\n",
    "    for tx in transactions:\n",
    "        tx_type = tx['action']\n",
    "        if tx_type in account_creation_counts:\n",
    "            count += 1\n",
    "    \n",
    "    return count/len(transactions)"
   ]
  },
  {
   "cell_type": "code",
   "execution_count": 7,
   "id": "3cb0c8b8-0b68-45fa-9b9e-d5034e53ddc7",
   "metadata": {},
   "outputs": [],
   "source": [
    "features = []\n",
    "for transactions in accountTxDatas:\n",
    "    total_transactions = calculate_total_transactions(transactions)\n",
    "    daily_transaction_count = calculate_daily_transaction_count(transactions)\n",
    "    transaction_intervals = calculate_transaction_intervals(transactions)\n",
    "    total_transaction_volume = calculate_total_transaction_volume(transactions)\n",
    "    mean_transaction_amount = calculate_mean_transaction_amount(transactions)\n",
    "    variance_transaction_amount = calculate_variance_transaction_amount(transactions)\n",
    "    unique_counterparties = calculate_unique_counterparties(transactions)\n",
    "    high_frequency_bursts = detect_high_frequency_bursts(transactions)\n",
    "    success_rate = calculate_success_rate(transactions)\n",
    "    time_of_day_activity = calculate_time_of_day_activity(transactions)\n",
    "\n",
    "    transfer_counts = calculate_transfer_counts(transactions)\n",
    "    mint_and_sig_counts = calculate_mint_and_sig_counts(transactions)\n",
    "    \n",
    "    feature_vector =[\n",
    "        total_transactions,\n",
    "        len(daily_transaction_count), \n",
    "        np.mean(transaction_intervals) if transaction_intervals else 0,\n",
    "        total_transaction_volume,\n",
    "        mean_transaction_amount,\n",
    "        variance_transaction_amount,\n",
    "        unique_counterparties,\n",
    "        high_frequency_bursts,\n",
    "        success_rate,\n",
    "        time_of_day_activity,\n",
    "        transfer_counts,\n",
    "        mint_and_sig_counts\n",
    "        ]\n",
    "    \n",
    "    features.append(feature_vector)"
   ]
  },
  {
   "cell_type": "code",
   "execution_count": 8,
   "id": "90555590-f215-491e-99ec-2364b76f7fe3",
   "metadata": {},
   "outputs": [
    {
     "data": {
      "text/plain": [
       "[[372,\n",
       "  1,\n",
       "  0.00013776579814315663,\n",
       "  793642920364830553,\n",
       "  2133448710658146.8,\n",
       "  1.871609965358034e+32,\n",
       "  16,\n",
       "  371,\n",
       "  1.0,\n",
       "  12.0,\n",
       "  0.6155913978494624,\n",
       "  0.0]]"
      ]
     },
     "execution_count": 8,
     "metadata": {},
     "output_type": "execute_result"
    }
   ],
   "source": [
    "features"
   ]
  },
  {
   "cell_type": "code",
   "execution_count": 9,
   "id": "5a167e53-d82d-4189-98ad-b082453558c3",
   "metadata": {},
   "outputs": [],
   "source": [
    "\n",
    "feature_names = [\n",
    "    'Total_Transactions',\n",
    "    'Unique_Days',\n",
    "    'Mean_Transaction_Interval',\n",
    "    'Total_Transaction_Volume',\n",
    "    'Mean_Transaction_Amount',\n",
    "    'Variance_Transaction_Amount',\n",
    "    'Unique_Counterparties',\n",
    "    'High_Frequency_Bursts',\n",
    "    'Success_Rate',\n",
    "    'Time_Of_Activity',\n",
    "    'Transfer_Counts',\n",
    "    'Mint_And_Sig_Counts'\n",
    "]"
   ]
  },
  {
   "cell_type": "code",
   "execution_count": 10,
   "id": "5e1bab24-2b6e-40ec-b25c-2c6423f0c481",
   "metadata": {},
   "outputs": [],
   "source": [
    "features_df = pd.DataFrame(features, columns=feature_names)\n",
    "\n",
    "scaled_features = scaler.transform(features_df)\n",
    "\n",
    "# Predict the cluster\n",
    "predicted_cluster = kmeans.predict(scaled_features)"
   ]
  },
  {
   "cell_type": "code",
   "execution_count": 11,
   "id": "f27490a4-728d-4f5b-a517-968465896bb0",
   "metadata": {},
   "outputs": [
    {
     "data": {
      "text/plain": [
       "array([1], dtype=int32)"
      ]
     },
     "execution_count": 11,
     "metadata": {},
     "output_type": "execute_result"
    }
   ],
   "source": [
    "predicted_cluster"
   ]
  },
  {
   "cell_type": "code",
   "execution_count": null,
   "id": "29a3a4c5-9d28-459a-9d2e-3c536102a52a",
   "metadata": {},
   "outputs": [],
   "source": []
  }
 ],
 "metadata": {
  "kernelspec": {
   "display_name": "Python 3 (ipykernel)",
   "language": "python",
   "name": "python3"
  },
  "language_info": {
   "codemirror_mode": {
    "name": "ipython",
    "version": 3
   },
   "file_extension": ".py",
   "mimetype": "text/x-python",
   "name": "python",
   "nbconvert_exporter": "python",
   "pygments_lexer": "ipython3",
   "version": "3.10.12"
  }
 },
 "nbformat": 4,
 "nbformat_minor": 5
}
